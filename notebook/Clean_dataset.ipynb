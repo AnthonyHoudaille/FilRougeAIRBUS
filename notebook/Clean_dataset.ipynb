{
 "cells": [
  {
   "cell_type": "code",
   "execution_count": 1,
   "metadata": {},
   "outputs": [
    {
     "name": "stderr",
     "output_type": "stream",
     "text": [
      "Using TensorFlow backend.\n"
     ]
    }
   ],
   "source": [
    "import os\n",
    "import pandas as pd\n",
    "import numpy as np\n",
    "import matplotlib.pyplot as plt\n",
    "import numpy as np\n",
    "from skimage.io import imread\n",
    "from preprocess.pre_process import multi_rle_encode, rle_encode, rle_decode, masks_as_image, masks_as_color, balancing_train\n",
    "from preprocess.pre_process import make_image_gen, create_aug_gen\n",
    "\n",
    "import time\n",
    "from IPython.display import clear_output"
   ]
  },
  {
   "cell_type": "code",
   "execution_count": 2,
   "metadata": {},
   "outputs": [],
   "source": [
    "ship_dir = '../../data/airbus_ship_detection/'\n",
    "train_image_dir = os.path.join(ship_dir, 'train')# Images for training\n",
    "test_image_dir = os.path.join(ship_dir, 'test')# Images for testing\n",
    "label_dir = os.path.join(ship_dir, 'train_ship_segmentations_v2.csv')# Images for testing\n",
    "masks = pd.read_csv(label_dir, engine=\"python\") # Markers for ships"
   ]
  },
  {
   "cell_type": "code",
   "execution_count": 3,
   "metadata": {},
   "outputs": [
    {
     "name": "stdout",
     "output_type": "stream",
     "text": [
      "231723\n",
      "231723\n"
     ]
    }
   ],
   "source": [
    "print(len(masks.ImageId))\n",
    "print(len(masks.EncodedPixels))"
   ]
  },
  {
   "cell_type": "markdown",
   "metadata": {},
   "source": [
    "## Remove not found images"
   ]
  },
  {
   "cell_type": "code",
   "execution_count": null,
   "metadata": {},
   "outputs": [],
   "source": [
    "# num_examples = len(masks.ImageId)\n",
    "t_per_file = []\n",
    "start = time.time()\n",
    "list_error_index = []\n",
    "for index, imgId in enumerate(masks.ImageId) :\n",
    "    if index%100==0 or index==num_examples-1:\n",
    "        clear_output(wait=True)\n",
    "        t_per_file.append((time.time() - start) / 100)\n",
    "        eta = np.mean(t_per_file) * (num_examples - index)\n",
    "        print(\"ETA:\", round(eta/60,2), end=\" minutes ==>  \")\n",
    "        print(index, \"/\", num_examples, end\" : \")\n",
    "        print(len(list_error_index), \"errors detected\")\n",
    "        start = time.time()\n",
    "    img_path = os.path.join(train_image_dir, imgId)\n",
    "    try:\n",
    "        img = imread(img_path)\n",
    "    except:\n",
    "        list_error_index.append(index)"
   ]
  },
  {
   "cell_type": "code",
   "execution_count": 5,
   "metadata": {},
   "outputs": [],
   "source": [
    "np.savetxt(\"log_list_error.txt\", list_error_index)"
   ]
  },
  {
   "cell_type": "code",
   "execution_count": 6,
   "metadata": {},
   "outputs": [
    {
     "name": "stdout",
     "output_type": "stream",
     "text": [
      "new length = 231722\n",
      "diff length : 1\n",
      "errors length : 1\n"
     ]
    }
   ],
   "source": [
    "new_dataframe = masks.drop(list_error_index, axis=0)\n",
    "print(\"new length =\", len(new_dataframe))\n",
    "print(\"diff length :\", len(masks)-len(new_dataframe))\n",
    "print(\"errors length :\", len(list_error_index))"
   ]
  },
  {
   "cell_type": "code",
   "execution_count": 7,
   "metadata": {},
   "outputs": [],
   "source": [
    "new_dataframe.to_csv(ship_dir + \"train_ship_segmentations_v2.csv\")"
   ]
  },
  {
   "cell_type": "markdown",
   "metadata": {},
   "source": [
    "## Removes duplicates"
   ]
  },
  {
   "cell_type": "code",
   "execution_count": 4,
   "metadata": {},
   "outputs": [],
   "source": [
    "label_dir = os.path.join(ship_dir, 'train_ship_segmentations_v2_clean.csv')# Images for testing\n",
    "dataframe = pd.read_csv(label_dir, engine=\"python\") # Markers for ships"
   ]
  },
  {
   "cell_type": "code",
   "execution_count": 5,
   "metadata": {},
   "outputs": [
    {
     "data": {
      "text/html": [
       "<div>\n",
       "<style scoped>\n",
       "    .dataframe tbody tr th:only-of-type {\n",
       "        vertical-align: middle;\n",
       "    }\n",
       "\n",
       "    .dataframe tbody tr th {\n",
       "        vertical-align: top;\n",
       "    }\n",
       "\n",
       "    .dataframe thead th {\n",
       "        text-align: right;\n",
       "    }\n",
       "</style>\n",
       "<table border=\"1\" class=\"dataframe\">\n",
       "  <thead>\n",
       "    <tr style=\"text-align: right;\">\n",
       "      <th></th>\n",
       "      <th>Unnamed: 0</th>\n",
       "      <th>ImageId</th>\n",
       "      <th>EncodedPixels</th>\n",
       "    </tr>\n",
       "  </thead>\n",
       "  <tbody>\n",
       "    <tr>\n",
       "      <th>0</th>\n",
       "      <td>0</td>\n",
       "      <td>00003e153.jpg</td>\n",
       "      <td>NaN</td>\n",
       "    </tr>\n",
       "    <tr>\n",
       "      <th>1</th>\n",
       "      <td>1</td>\n",
       "      <td>0001124c7.jpg</td>\n",
       "      <td>NaN</td>\n",
       "    </tr>\n",
       "    <tr>\n",
       "      <th>2</th>\n",
       "      <td>2</td>\n",
       "      <td>000155de5.jpg</td>\n",
       "      <td>264661 17 265429 33 266197 33 266965 33 267733...</td>\n",
       "    </tr>\n",
       "    <tr>\n",
       "      <th>3</th>\n",
       "      <td>3</td>\n",
       "      <td>000194a2d.jpg</td>\n",
       "      <td>360486 1 361252 4 362019 5 362785 8 363552 10 ...</td>\n",
       "    </tr>\n",
       "    <tr>\n",
       "      <th>4</th>\n",
       "      <td>4</td>\n",
       "      <td>000194a2d.jpg</td>\n",
       "      <td>51834 9 52602 9 53370 9 54138 9 54906 9 55674 ...</td>\n",
       "    </tr>\n",
       "  </tbody>\n",
       "</table>\n",
       "</div>"
      ],
      "text/plain": [
       "   Unnamed: 0        ImageId  \\\n",
       "0           0  00003e153.jpg   \n",
       "1           1  0001124c7.jpg   \n",
       "2           2  000155de5.jpg   \n",
       "3           3  000194a2d.jpg   \n",
       "4           4  000194a2d.jpg   \n",
       "\n",
       "                                       EncodedPixels  \n",
       "0                                                NaN  \n",
       "1                                                NaN  \n",
       "2  264661 17 265429 33 266197 33 266965 33 267733...  \n",
       "3  360486 1 361252 4 362019 5 362785 8 363552 10 ...  \n",
       "4  51834 9 52602 9 53370 9 54138 9 54906 9 55674 ...  "
      ]
     },
     "execution_count": 5,
     "metadata": {},
     "output_type": "execute_result"
    }
   ],
   "source": [
    "dataframe.head(5)"
   ]
  },
  {
   "cell_type": "code",
   "execution_count": 18,
   "metadata": {},
   "outputs": [
    {
     "ename": "AttributeError",
     "evalue": "type object 'numpy.dtype' has no attribute 'float32'",
     "output_type": "error",
     "traceback": [
      "\u001b[0;31m---------------------------------------------------------------------------\u001b[0m",
      "\u001b[0;31mAttributeError\u001b[0m                            Traceback (most recent call last)",
      "\u001b[0;32m<ipython-input-18-c7c62df387d7>\u001b[0m in \u001b[0;36m<module>\u001b[0;34m\u001b[0m\n\u001b[0;32m----> 1\u001b[0;31m \u001b[0mnp\u001b[0m\u001b[0;34m.\u001b[0m\u001b[0mdtype\u001b[0m\u001b[0;34m.\u001b[0m\u001b[0mfloat32\u001b[0m\u001b[0;34m\u001b[0m\u001b[0m\n\u001b[0m",
      "\u001b[0;31mAttributeError\u001b[0m: type object 'numpy.dtype' has no attribute 'float32'"
     ]
    }
   ],
   "source": [
    "np.dtype.float32"
   ]
  },
  {
   "cell_type": "code",
   "execution_count": 23,
   "metadata": {
    "scrolled": false
   },
   "outputs": [
    {
     "data": {
      "text/plain": [
       "array([264661,     17, 265429,     33, 266197,     33, 266965,     33,\n",
       "       267733,     33, 268501,     33, 269269,     33, 270037,     33,\n",
       "       270805,     33, 271573,     33, 272341,     33, 273109,     33,\n",
       "       273877,     33, 274645,     33, 275413,     33, 276181,     33,\n",
       "       276949,     33, 277716,     34, 278484,     34, 279252,     33,\n",
       "       280020,     33, 280788,     33, 281556,     33, 282324,     33,\n",
       "       283092,     33, 283860,     33, 284628,     33, 285396,     33,\n",
       "       286164,     33, 286932,     33, 287700,     33, 288468,     33,\n",
       "       289236,     33, 290004,     33, 290772,     33, 291540,     33,\n",
       "       292308,     33, 293076,     33, 293844,     33, 294612,     33,\n",
       "       295380,     33, 296148,     33, 296916,     33, 297684,     33,\n",
       "       298452,     33, 299220,     33, 299988,     33, 300756,     33,\n",
       "       301524,     33, 302292,     33, 303060,     33, 303827,     34,\n",
       "       304595,     34, 305363,     33, 306131,     33, 306899,     33,\n",
       "       307667,     33, 308435,     33, 309203,     33, 309971,     33,\n",
       "       310739,     33, 311507,     33, 312275,     33, 313043,     33,\n",
       "       313811,     33, 314579,     33, 315347,     33, 316115,     33,\n",
       "       316883,     33, 317651,     33, 318419,     33, 319187,     33,\n",
       "       319955,     33, 320723,     33, 321491,     33, 322259,     33,\n",
       "       323027,     33, 323795,     33, 324563,     33, 325331,     33,\n",
       "       326099,     33, 326867,     33, 327635,     33, 328403,     33,\n",
       "       329171,     33, 329938,     34, 330706,     34, 331474,     33,\n",
       "       332242,     33, 333010,     33, 333778,     33, 334546,     33,\n",
       "       335314,     33, 336082,     33, 336850,     33, 337618,     33,\n",
       "       338386,     33, 339154,     33, 339922,     33, 340690,     33,\n",
       "       341458,     33, 342226,     33, 343003,     24, 343787,      8])"
      ]
     },
     "execution_count": 23,
     "metadata": {},
     "output_type": "execute_result"
    }
   ],
   "source": [
    "np.array(dataframe['EncodedPixels'][2].split(\" \")).astype(int)"
   ]
  },
  {
   "cell_type": "code",
   "execution_count": 100,
   "metadata": {},
   "outputs": [],
   "source": [
    "def encodedPixel2shape(x):\n",
    "    x_str = str(x)\n",
    "    if x_str != 'nan':\n",
    "        shape = np.array(x_str.split(\" \")).astype(int)[1:][::2]\n",
    "    else:\n",
    "        shape = 'nan'\n",
    "    return str(shape).replace(\",\", \" \").replace(\"[\", \"\").replace(\"]\", \"\")"
   ]
  },
  {
   "cell_type": "code",
   "execution_count": 32,
   "metadata": {
    "scrolled": true
   },
   "outputs": [
    {
     "data": {
      "text/plain": [
       "array([264661,     33, 266965,     33, 269269,     33, 271573,     33,\n",
       "       273877,     33, 276181,     33, 278484,     33, 280788,     33,\n",
       "       283092,     33, 285396,     33, 287700,     33, 290004,     33,\n",
       "       292308,     33, 294612,     33, 296916,     33, 299220,     33,\n",
       "       301524,     33, 303827,     34, 306131,     33, 308435,     33,\n",
       "       310739,     33, 313043,     33, 315347,     33, 317651,     33,\n",
       "       319955,     33, 322259,     33, 324563,     33, 326867,     33,\n",
       "       329171,     34, 331474,     33, 333778,     33, 336082,     33,\n",
       "       338386,     33, 340690,     33, 343003,      8])"
      ]
     },
     "execution_count": 32,
     "metadata": {},
     "output_type": "execute_result"
    }
   ],
   "source": [
    "dd"
   ]
  },
  {
   "cell_type": "code",
   "execution_count": 101,
   "metadata": {},
   "outputs": [],
   "source": [
    "#dataframe['EncodedPixels'][2].split(\" \")[1:][::2]"
   ]
  },
  {
   "cell_type": "code",
   "execution_count": 102,
   "metadata": {},
   "outputs": [
    {
     "data": {
      "text/plain": [
       "'17 33 33 33 33 33 33 33 33 33 33 33 33 33 33 33 33 34 34 33 33 33 33 33\\n 33 33 33 33 33 33 33 33 33 33 33 33 33 33 33 33 33 33 33 33 33 33 33 33\\n 33 33 33 34 34 33 33 33 33 33 33 33 33 33 33 33 33 33 33 33 33 33 33 33\\n 33 33 33 33 33 33 33 33 33 33 33 33 33 34 34 33 33 33 33 33 33 33 33 33\\n 33 33 33 33 33 33 24  8'"
      ]
     },
     "execution_count": 102,
     "metadata": {},
     "output_type": "execute_result"
    }
   ],
   "source": [
    "encodedPixel2shape(dataframe['EncodedPixels'][2])"
   ]
  },
  {
   "cell_type": "code",
   "execution_count": 103,
   "metadata": {},
   "outputs": [],
   "source": [
    "dataframe[\"shape\"] = dataframe['EncodedPixels'].map(encodedPixel2shape)"
   ]
  },
  {
   "cell_type": "code",
   "execution_count": 104,
   "metadata": {},
   "outputs": [
    {
     "data": {
      "text/html": [
       "<div>\n",
       "<style scoped>\n",
       "    .dataframe tbody tr th:only-of-type {\n",
       "        vertical-align: middle;\n",
       "    }\n",
       "\n",
       "    .dataframe tbody tr th {\n",
       "        vertical-align: top;\n",
       "    }\n",
       "\n",
       "    .dataframe thead th {\n",
       "        text-align: right;\n",
       "    }\n",
       "</style>\n",
       "<table border=\"1\" class=\"dataframe\">\n",
       "  <thead>\n",
       "    <tr style=\"text-align: right;\">\n",
       "      <th></th>\n",
       "      <th>Unnamed: 0</th>\n",
       "      <th>ImageId</th>\n",
       "      <th>EncodedPixels</th>\n",
       "      <th>shape</th>\n",
       "    </tr>\n",
       "  </thead>\n",
       "  <tbody>\n",
       "    <tr>\n",
       "      <th>0</th>\n",
       "      <td>0</td>\n",
       "      <td>00003e153.jpg</td>\n",
       "      <td>NaN</td>\n",
       "      <td>nan</td>\n",
       "    </tr>\n",
       "    <tr>\n",
       "      <th>1</th>\n",
       "      <td>1</td>\n",
       "      <td>0001124c7.jpg</td>\n",
       "      <td>NaN</td>\n",
       "      <td>nan</td>\n",
       "    </tr>\n",
       "    <tr>\n",
       "      <th>2</th>\n",
       "      <td>2</td>\n",
       "      <td>000155de5.jpg</td>\n",
       "      <td>264661 17 265429 33 266197 33 266965 33 267733...</td>\n",
       "      <td>17 33 33 33 33 33 33 33 33 33 33 33 33 33 33 3...</td>\n",
       "    </tr>\n",
       "    <tr>\n",
       "      <th>3</th>\n",
       "      <td>3</td>\n",
       "      <td>000194a2d.jpg</td>\n",
       "      <td>360486 1 361252 4 362019 5 362785 8 363552 10 ...</td>\n",
       "      <td>1  4  5  8 10 10  9 10 10  9  9 10 10  9  9  ...</td>\n",
       "    </tr>\n",
       "    <tr>\n",
       "      <th>4</th>\n",
       "      <td>4</td>\n",
       "      <td>000194a2d.jpg</td>\n",
       "      <td>51834 9 52602 9 53370 9 54138 9 54906 9 55674 ...</td>\n",
       "      <td>9 9 9 9 9 7 7 7 7 7 7 7 9 9 9 9 9 9</td>\n",
       "    </tr>\n",
       "  </tbody>\n",
       "</table>\n",
       "</div>"
      ],
      "text/plain": [
       "   Unnamed: 0        ImageId  \\\n",
       "0           0  00003e153.jpg   \n",
       "1           1  0001124c7.jpg   \n",
       "2           2  000155de5.jpg   \n",
       "3           3  000194a2d.jpg   \n",
       "4           4  000194a2d.jpg   \n",
       "\n",
       "                                       EncodedPixels  \\\n",
       "0                                                NaN   \n",
       "1                                                NaN   \n",
       "2  264661 17 265429 33 266197 33 266965 33 267733...   \n",
       "3  360486 1 361252 4 362019 5 362785 8 363552 10 ...   \n",
       "4  51834 9 52602 9 53370 9 54138 9 54906 9 55674 ...   \n",
       "\n",
       "                                               shape  \n",
       "0                                                nan  \n",
       "1                                                nan  \n",
       "2  17 33 33 33 33 33 33 33 33 33 33 33 33 33 33 3...  \n",
       "3   1  4  5  8 10 10  9 10 10  9  9 10 10  9  9  ...  \n",
       "4                9 9 9 9 9 7 7 7 7 7 7 7 9 9 9 9 9 9  "
      ]
     },
     "execution_count": 104,
     "metadata": {},
     "output_type": "execute_result"
    }
   ],
   "source": [
    "dataframe.head(5)"
   ]
  },
  {
   "cell_type": "code",
   "execution_count": 108,
   "metadata": {},
   "outputs": [],
   "source": [
    "dataframe_noduplicates = dataframe.drop_duplicates(\"shape\")"
   ]
  },
  {
   "cell_type": "code",
   "execution_count": 109,
   "metadata": {},
   "outputs": [
    {
     "data": {
      "text/plain": [
       "231722"
      ]
     },
     "execution_count": 109,
     "metadata": {},
     "output_type": "execute_result"
    }
   ],
   "source": [
    "len(dataframe)"
   ]
  },
  {
   "cell_type": "code",
   "execution_count": 110,
   "metadata": {},
   "outputs": [
    {
     "data": {
      "text/plain": [
       "17425"
      ]
     },
     "execution_count": 110,
     "metadata": {},
     "output_type": "execute_result"
    }
   ],
   "source": [
    "len(dataframe_noduplicates)"
   ]
  },
  {
   "cell_type": "code",
   "execution_count": 113,
   "metadata": {},
   "outputs": [],
   "source": [
    "final_dataframe = dataframe_noduplicates[[\"ImageId\", \"EncodedPixels\"]][1:]"
   ]
  },
  {
   "cell_type": "code",
   "execution_count": 114,
   "metadata": {},
   "outputs": [
    {
     "data": {
      "text/html": [
       "<div>\n",
       "<style scoped>\n",
       "    .dataframe tbody tr th:only-of-type {\n",
       "        vertical-align: middle;\n",
       "    }\n",
       "\n",
       "    .dataframe tbody tr th {\n",
       "        vertical-align: top;\n",
       "    }\n",
       "\n",
       "    .dataframe thead th {\n",
       "        text-align: right;\n",
       "    }\n",
       "</style>\n",
       "<table border=\"1\" class=\"dataframe\">\n",
       "  <thead>\n",
       "    <tr style=\"text-align: right;\">\n",
       "      <th></th>\n",
       "      <th>ImageId</th>\n",
       "      <th>EncodedPixels</th>\n",
       "    </tr>\n",
       "  </thead>\n",
       "  <tbody>\n",
       "    <tr>\n",
       "      <th>2</th>\n",
       "      <td>000155de5.jpg</td>\n",
       "      <td>264661 17 265429 33 266197 33 266965 33 267733...</td>\n",
       "    </tr>\n",
       "    <tr>\n",
       "      <th>3</th>\n",
       "      <td>000194a2d.jpg</td>\n",
       "      <td>360486 1 361252 4 362019 5 362785 8 363552 10 ...</td>\n",
       "    </tr>\n",
       "    <tr>\n",
       "      <th>4</th>\n",
       "      <td>000194a2d.jpg</td>\n",
       "      <td>51834 9 52602 9 53370 9 54138 9 54906 9 55674 ...</td>\n",
       "    </tr>\n",
       "    <tr>\n",
       "      <th>5</th>\n",
       "      <td>000194a2d.jpg</td>\n",
       "      <td>198320 10 199088 10 199856 10 200624 10 201392...</td>\n",
       "    </tr>\n",
       "    <tr>\n",
       "      <th>6</th>\n",
       "      <td>000194a2d.jpg</td>\n",
       "      <td>55683 1 56451 1 57219 1 57987 1 58755 1 59523 ...</td>\n",
       "    </tr>\n",
       "    <tr>\n",
       "      <th>7</th>\n",
       "      <td>000194a2d.jpg</td>\n",
       "      <td>254389 9 255157 17 255925 17 256693 17 257461 ...</td>\n",
       "    </tr>\n",
       "    <tr>\n",
       "      <th>9</th>\n",
       "      <td>00021ddc3.jpg</td>\n",
       "      <td>108287 1 109054 3 109821 4 110588 5 111356 5 1...</td>\n",
       "    </tr>\n",
       "    <tr>\n",
       "      <th>10</th>\n",
       "      <td>00021ddc3.jpg</td>\n",
       "      <td>101361 1 102128 3 102896 4 103663 6 104430 9 1...</td>\n",
       "    </tr>\n",
       "    <tr>\n",
       "      <th>11</th>\n",
       "      <td>00021ddc3.jpg</td>\n",
       "      <td>74441 3 75207 5 75975 5 76743 5 77511 5 78280 ...</td>\n",
       "    </tr>\n",
       "    <tr>\n",
       "      <th>12</th>\n",
       "      <td>00021ddc3.jpg</td>\n",
       "      <td>74444 4 75212 4 75980 4 76748 4 77517 3 78285 ...</td>\n",
       "    </tr>\n",
       "  </tbody>\n",
       "</table>\n",
       "</div>"
      ],
      "text/plain": [
       "          ImageId                                      EncodedPixels\n",
       "2   000155de5.jpg  264661 17 265429 33 266197 33 266965 33 267733...\n",
       "3   000194a2d.jpg  360486 1 361252 4 362019 5 362785 8 363552 10 ...\n",
       "4   000194a2d.jpg  51834 9 52602 9 53370 9 54138 9 54906 9 55674 ...\n",
       "5   000194a2d.jpg  198320 10 199088 10 199856 10 200624 10 201392...\n",
       "6   000194a2d.jpg  55683 1 56451 1 57219 1 57987 1 58755 1 59523 ...\n",
       "7   000194a2d.jpg  254389 9 255157 17 255925 17 256693 17 257461 ...\n",
       "9   00021ddc3.jpg  108287 1 109054 3 109821 4 110588 5 111356 5 1...\n",
       "10  00021ddc3.jpg  101361 1 102128 3 102896 4 103663 6 104430 9 1...\n",
       "11  00021ddc3.jpg  74441 3 75207 5 75975 5 76743 5 77511 5 78280 ...\n",
       "12  00021ddc3.jpg  74444 4 75212 4 75980 4 76748 4 77517 3 78285 ..."
      ]
     },
     "execution_count": 114,
     "metadata": {},
     "output_type": "execute_result"
    }
   ],
   "source": [
    "final_dataframe.head(10)"
   ]
  },
  {
   "cell_type": "code",
   "execution_count": null,
   "metadata": {},
   "outputs": [],
   "source": [
    "new_dataframe.to_csv(ship_dir + \"train_ship_segmentations_v2_clean_nodup.csv\", index=False)"
   ]
  }
 ],
 "metadata": {
  "kernelspec": {
   "display_name": "Python 3",
   "language": "python",
   "name": "python3"
  },
  "language_info": {
   "codemirror_mode": {
    "name": "ipython",
    "version": 3
   },
   "file_extension": ".py",
   "mimetype": "text/x-python",
   "name": "python",
   "nbconvert_exporter": "python",
   "pygments_lexer": "ipython3",
   "version": "3.5.3"
  }
 },
 "nbformat": 4,
 "nbformat_minor": 2
}
