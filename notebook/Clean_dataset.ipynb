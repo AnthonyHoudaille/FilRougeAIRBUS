{
 "cells": [
  {
   "cell_type": "code",
   "execution_count": 1,
   "metadata": {},
   "outputs": [
    {
     "name": "stderr",
     "output_type": "stream",
     "text": [
      "Using TensorFlow backend.\n"
     ]
    }
   ],
   "source": [
    "import os\n",
    "import pandas as pd\n",
    "import numpy as np\n",
    "import matplotlib.pyplot as plt\n",
    "import numpy as np\n",
    "from skimage.io import imread\n",
    "from preprocess.pre_process import multi_rle_encode, rle_encode, rle_decode, masks_as_image, masks_as_color, balancing_train\n",
    "from preprocess.pre_process import make_image_gen, create_aug_gen\n",
    "\n",
    "import time\n",
    "from IPython.display import clear_output"
   ]
  },
  {
   "cell_type": "code",
   "execution_count": 2,
   "metadata": {},
   "outputs": [],
   "source": [
    "ship_dir = '../../data/airbus_ship_detection/'\n",
    "train_image_dir = os.path.join(ship_dir, 'train')# Images for training\n",
    "test_image_dir = os.path.join(ship_dir, 'test')# Images for testing\n",
    "label_dir = os.path.join(ship_dir, 'train_ship_segmentations_v2.csv')# Images for testing\n",
    "masks = pd.read_csv(label_dir, engine=\"python\") # Markers for ships"
   ]
  },
  {
   "cell_type": "code",
   "execution_count": 3,
   "metadata": {},
   "outputs": [
    {
     "name": "stdout",
     "output_type": "stream",
     "text": [
      "231723\n",
      "231723\n"
     ]
    }
   ],
   "source": [
    "print(len(masks.ImageId))\n",
    "print(len(masks.EncodedPixels))"
   ]
  },
  {
   "cell_type": "code",
   "execution_count": 4,
   "metadata": {},
   "outputs": [
    {
     "name": "stdout",
     "output_type": "stream",
     "text": [
      "ETA: 0.0 minutes ==>  231722 / 231723\n"
     ]
    }
   ],
   "source": [
    "num_examples = len(masks.ImageId)\n",
    "t_per_file = []\n",
    "start = time.time()\n",
    "list_error_index = []\n",
    "for index, imgId in enumerate(masks.ImageId) :\n",
    "    if index%100==0 or index==num_examples-1:\n",
    "        clear_output(wait=True)\n",
    "        t_per_file.append((time.time() - start) / 100)\n",
    "        eta = np.mean(t_per_file) * (num_examples - index)\n",
    "        print(\"ETA:\", round(eta/60,2), end=\" minutes ==>  \")\n",
    "        print(index, \"/\", num_examples, end\" : \")\n",
    "        print(len(list_error_index), \"errors detected\")\n",
    "        start = time.time()\n",
    "    img_path = os.path.join(train_image_dir, imgId)\n",
    "    try:\n",
    "        img = imread(img_path)\n",
    "    except:\n",
    "        list_error_index.append(index)"
   ]
  },
  {
   "cell_type": "code",
   "execution_count": 5,
   "metadata": {},
   "outputs": [],
   "source": [
    "np.savetxt(\"log_list_error.txt\", list_error_index)"
   ]
  },
  {
   "cell_type": "code",
   "execution_count": 6,
   "metadata": {},
   "outputs": [
    {
     "name": "stdout",
     "output_type": "stream",
     "text": [
      "new length = 231722\n",
      "diff length : 1\n",
      "errors length : 1\n"
     ]
    }
   ],
   "source": [
    "new_dataframe = masks.drop(list_error_index, axis=0)\n",
    "print(\"new length =\", len(new_dataframe))\n",
    "print(\"diff length :\", len(masks)-len(new_dataframe))\n",
    "print(\"errors length :\", len(list_error_index))"
   ]
  },
  {
   "cell_type": "code",
   "execution_count": 7,
   "metadata": {},
   "outputs": [],
   "source": [
    "new_dataframe.to_csv(ship_dir + \"train_ship_segmentations_v2.csv\")"
   ]
  }
 ],
 "metadata": {
  "kernelspec": {
   "display_name": "Python 3",
   "language": "python",
   "name": "python3"
  },
  "language_info": {
   "codemirror_mode": {
    "name": "ipython",
    "version": 3
   },
   "file_extension": ".py",
   "mimetype": "text/x-python",
   "name": "python",
   "nbconvert_exporter": "python",
   "pygments_lexer": "ipython3",
   "version": "3.5.3"
  }
 },
 "nbformat": 4,
 "nbformat_minor": 2
}
