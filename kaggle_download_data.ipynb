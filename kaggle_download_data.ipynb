{
 "cells": [
  {
   "cell_type": "markdown",
   "metadata": {
    "colab_type": "text",
    "id": "P4urChDpebqp"
   },
   "source": [
    "# Download data from kaggle"
   ]
  },
  {
   "cell_type": "markdown",
   "metadata": {},
   "source": [
    "## Install kaggle package (if necessary)"
   ]
  },
  {
   "cell_type": "code",
   "execution_count": null,
   "metadata": {},
   "outputs": [],
   "source": [
    "!pip install kaggle --upgrade"
   ]
  },
  {
   "cell_type": "markdown",
   "metadata": {},
   "source": [
    "## setup links\n",
    "data_dir = \"../../data/kaggle\""
   ]
  },
  {
   "cell_type": "code",
   "execution_count": null,
   "metadata": {},
   "outputs": [],
   "source": [
    "!mkdir -p ~/.data_dir\n"
   ]
  },
  {
   "cell_type": "code",
   "execution_count": 0,
   "metadata": {
    "colab": {},
    "colab_type": "code",
    "id": "ZrQZgYbWELOq"
   },
   "outputs": [],
   "source": [
    "# Téléchargements des données avec l'API kaggle et déplacement dans fichier data_projet du Drive.\n",
    "\n",
    "# create folder if necessary\n",
    "!cp kaggle.json ~/.kaggle/\n",
    "!chmod 600 ~/.kaggle/kaggle.json\n",
    "!ls ~/.kaggle\n",
    "\n",
    "!ls -l ~/.kaggle\n",
    "!cat ~/.kaggle/kaggle.json\n",
    "\n",
    "!kaggle competitions download -c airbus-ship-detection\n",
    "#!mkdir -p /content/gdrive/My\\ Drive/data_projet\n",
    "#!mv sample_submission_v2.csv gdrive/My\\ Drive/data_projet\n",
    "#!mv train_ship_segmentations_v2.csv.zip gdrive/My\\ Drive/data_projet\n",
    "#!mv train_v2.zip gdrive/My\\ Drive/data_projet\n",
    "#!mv test_v2.zip gdrive/My\\ Drive/data_projet\n",
    "#!mv kaggle.json gdrive/My\\ Drive/data_projet\n"
   ]
  }
 ],
 "metadata": {
  "accelerator": "GPU",
  "colab": {
   "collapsed_sections": [],
   "name": "Projet Fil Rouge.ipynb",
   "provenance": [],
   "toc_visible": true,
   "version": "0.3.2"
  },
  "kernelspec": {
   "display_name": "Python 3",
   "language": "python",
   "name": "python3"
  },
  "language_info": {
   "codemirror_mode": {
    "name": "ipython",
    "version": 3
   },
   "file_extension": ".py",
   "mimetype": "text/x-python",
   "name": "python",
   "nbconvert_exporter": "python",
   "pygments_lexer": "ipython3",
   "version": "3.7.0"
  }
 },
 "nbformat": 4,
 "nbformat_minor": 1
}
